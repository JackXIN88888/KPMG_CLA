{
 "cells": [
  {
   "cell_type": "code",
   "execution_count": 11,
   "metadata": {},
   "outputs": [],
   "source": [
    "import requests\n",
    "import json\n",
    "from datetime import datetime, date, timedelta\n",
    "\n",
    "now = datetime.now() \n",
    "today = now.strftime(\"%Y-%m-%d\")\n",
    "yesterday = (now - timedelta(days=1)).strftime(\"%Y-%m-%d\") #new files not added often so increase the days number in timedelta to avoid empty string\n",
    "\n",
    "url = \"https://public-search.emploi.belgique.be/website-service/joint-work-convention/search\"\n",
    "dl_url = \"https://public-search.emploi.belgique.be/website-download-service/joint-work-convention/\"\n",
    "\n",
    "r = requests.post(url,json={\"signatureDate\": {'start': yesterday+\"T00:00:00.000Z\", 'end': today+\"T00:00:00.000Z\"}})\n",
    "\n",
    "data = r.json()\n",
    "\n",
    "with open(\"sample.json\") as file:\n",
    "    existing_data = json.loads(file.read())\n",
    "\n",
    "for item in data:\n",
    "    if not any(d['depositNumber'] == item['depositNumber'] for d in existing_data):\n",
    "        split = item['documentLink'].split('/')\n",
    "        item['CPnumber'] = split[0]\n",
    "        item['DocNumber'] = split[1][:-4]\n",
    "        item['documentLink'] = dl_url + item['documentLink']\n",
    "        existing_data.append(item)\n",
    "\n",
    "json_object = json.dumps(existing_data, indent=4)\n",
    "\n",
    "with open(\"sample.json\", \"w\") as outfile:\n",
    "    outfile.write(json_object)\n"
   ]
  }
 ],
 "metadata": {
  "kernelspec": {
   "display_name": "Python 3",
   "language": "python",
   "name": "python3"
  },
  "language_info": {
   "codemirror_mode": {
    "name": "ipython",
    "version": 3
   },
   "file_extension": ".py",
   "mimetype": "text/x-python",
   "name": "python",
   "nbconvert_exporter": "python",
   "pygments_lexer": "ipython3",
   "version": "3.10.7"
  },
  "orig_nbformat": 4,
  "vscode": {
   "interpreter": {
    "hash": "916dbcbb3f70747c44a77c7bcd40155683ae19c65e1c03b4aa3499c5328201f1"
   }
  }
 },
 "nbformat": 4,
 "nbformat_minor": 2
}
